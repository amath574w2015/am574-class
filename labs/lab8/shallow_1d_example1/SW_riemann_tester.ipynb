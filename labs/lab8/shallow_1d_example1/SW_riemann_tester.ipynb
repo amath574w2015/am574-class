{
 "metadata": {
  "name": ""
 },
 "nbformat": 3,
 "nbformat_minor": 0,
 "worksheets": [
  {
   "cells": [
    {
     "cell_type": "markdown",
     "metadata": {},
     "source": [
      "# Shallow water equations -- Riemann solver tests\n",
      "\n",
      "Note this requires the `ipywidgets` package and the master branch of `$CLAW/riemann`."
     ]
    },
    {
     "cell_type": "code",
     "collapsed": false,
     "input": [
      "%matplotlib inline\n",
      "import matplotlib.pyplot as plt\n",
      "import numpy as np\n",
      "from ipywidgets import StaticInteract, RangeWidget\n",
      "from clawpack import riemann"
     ],
     "language": "python",
     "metadata": {},
     "outputs": [],
     "prompt_number": null
    },
    {
     "cell_type": "markdown",
     "metadata": {},
     "source": [
      "The next cell imports a module containing a function that takes a Riemann problem (left state, right state, and approximate solver), and computes the Riemann solution, as well as functions to plot the solution in various forms."
     ]
    },
    {
     "cell_type": "code",
     "collapsed": false,
     "input": [
      "from clawpack.riemann import riemann_tools   \n",
      "import SW_exact_Riemann_solver\n",
      "import SW_phase"
     ],
     "language": "python",
     "metadata": {},
     "outputs": [],
     "prompt_number": null
    },
    {
     "cell_type": "markdown",
     "metadata": {},
     "source": [
      "# Shallow water equations: exact solution\n",
      "\n",
      "We can compute the exact solution to the Riemann problem for the shallow water equations.\n",
      "See [SW_exact_Riemann_solver.py](SW_exact_Riemann_solver.py)"
     ]
    },
    {
     "cell_type": "code",
     "collapsed": false,
     "input": [
      "grav = 9.81\n",
      "\n",
      "q_l = np.array((1.,3.))\n",
      "q_r = np.array((1.,-3.))\n",
      "\n",
      "ex_states, ex_speeds, reval = SW_exact_Riemann_solver.exact_riemann_solution(q_l ,q_r, grav)\n",
      "\n",
      "print \"States in solution:\"\n",
      "print ex_states\n",
      "\n",
      "plot_function = riemann_tools.make_plot_function(ex_states, ex_speeds, reval)\n",
      "StaticInteract(plot_function, t=RangeWidget(0,.9,.1))"
     ],
     "language": "python",
     "metadata": {},
     "outputs": [],
     "prompt_number": null
    },
    {
     "cell_type": "markdown",
     "metadata": {},
     "source": [
      "# Shallow water: approximate solutions\n",
      "We can also easily compare the approximate solutions given by, say, a Roe solver for the SW equations.  The phase plane plot below is created using the [SW_phase.py](SW_phase.py) module.\n",
      "\n",
      "## Roe solver:"
     ]
    },
    {
     "cell_type": "code",
     "collapsed": false,
     "input": [
      "solver = riemann.shallow_1D_py.shallow_roe_1D\n",
      "num_eqn = riemann.shallow_1D_py.num_eqn\n",
      "\n",
      "problem_data = {}\n",
      "problem_data['grav'] = grav\n",
      "problem_data['efix'] = False\n",
      "\n",
      "print \"Roe solver solution to SW equations:\"\n",
      "states, s, roe_eval = riemann_tools.riemann_solution(num_eqn,solver,q_l,q_r,problem_data=problem_data)\n",
      "\n",
      "#riemann_tools.plot_phase(states)\n",
      "\n",
      "plt.figure()\n",
      "SW_phase.phase_plane_curves(q_l[0],q_l[1],'qleft',1)\n",
      "SW_phase.phase_plane_curves(q_r[0],q_r[1],'qright',2)\n",
      "plt.plot(states[0,:],states[1,:],'k--o')\n",
      "plt.xlim(0,4)\n",
      "plt.ylim(-6,6)"
     ],
     "language": "python",
     "metadata": {},
     "outputs": [],
     "prompt_number": null
    },
    {
     "cell_type": "code",
     "collapsed": false,
     "input": [
      "plot_function = riemann_tools.make_plot_function(states,s,roe_eval)\n",
      "StaticInteract(plot_function, t=RangeWidget(0,.9,.1))"
     ],
     "language": "python",
     "metadata": {},
     "outputs": [],
     "prompt_number": null
    },
    {
     "cell_type": "markdown",
     "metadata": {},
     "source": [
      "## Compare the exact and Roe solutions:"
     ]
    },
    {
     "cell_type": "code",
     "collapsed": false,
     "input": [
      "plot_function = riemann_tools.make_plot_function([ex_states,states],\n",
      "                                                 [ex_speeds,s],\n",
      "                                                 [reval,roe_eval],\n",
      "                                                 ['Exact','Roe'])\n",
      "plt.figure()\n",
      "SW_phase.phase_plane_curves(q_l[0],q_l[1],'qleft',1)\n",
      "SW_phase.phase_plane_curves(q_r[0],q_r[1],'qright',2)\n",
      "plt.plot(states[0,:],states[1,:],'k--o')\n",
      "plt.xlim(0,4)\n",
      "plt.ylim(-6,6)\n",
      "\n",
      "StaticInteract(plot_function, t=RangeWidget(0,.9,.1))"
     ],
     "language": "python",
     "metadata": {},
     "outputs": [],
     "prompt_number": null
    },
    {
     "cell_type": "markdown",
     "metadata": {},
     "source": [
      "## Example with a rarefaction wave"
     ]
    },
    {
     "cell_type": "code",
     "collapsed": false,
     "input": [
      "q_l = np.array((3.,2.))\n",
      "q_r = np.array((1.,1.))\n",
      "\n",
      "ex_states, ex_speeds, reval = SW_exact_Riemann_solver.exact_riemann_solution(q_l ,q_r, grav)\n",
      "\n",
      "states, s, roe_eval = riemann_tools.riemann_solution(num_eqn,solver,q_l,q_r,problem_data=problem_data)\n",
      "\n",
      "\n",
      "plot_function = riemann_tools.make_plot_function([ex_states,states],\n",
      "                                                 [ex_speeds,s],\n",
      "                                                 [reval,roe_eval],\n",
      "                                                 ['Exact','Roe'])\n",
      "plt.figure()\n",
      "SW_phase.phase_plane_curves(q_l[0],q_l[1],'qleft',1)\n",
      "SW_phase.phase_plane_curves(q_r[0],q_r[1],'qright',2)\n",
      "plt.plot(states[0,:],states[1,:],'k--o')\n",
      "plt.xlim(0,4)\n",
      "plt.ylim(-6,8)\n",
      "\n",
      "StaticInteract(plot_function, t=RangeWidget(0,.9,.1))"
     ],
     "language": "python",
     "metadata": {},
     "outputs": [],
     "prompt_number": null
    },
    {
     "cell_type": "markdown",
     "metadata": {},
     "source": [
      "## Example with a transonic rarefaction"
     ]
    },
    {
     "cell_type": "code",
     "collapsed": false,
     "input": [
      "q_l = np.array((0.5, -1.5))\n",
      "q_r = np.array((1.5, -4.5))\n",
      "\n",
      "ex_states, ex_speeds, reval = SW_exact_Riemann_solver.exact_riemann_solution(q_l ,q_r, grav)\n",
      "\n",
      "states, s, roe_eval = riemann_tools.riemann_solution(num_eqn,solver,q_l,q_r,problem_data=problem_data)\n",
      "\n",
      "\n",
      "plot_function = riemann_tools.make_plot_function([ex_states,states],\n",
      "                                                 [ex_speeds,s],\n",
      "                                                 [reval,roe_eval],\n",
      "                                                 ['Exact','Roe'])\n",
      "plt.figure()\n",
      "SW_phase.phase_plane_curves(q_l[0],q_l[1],'qleft',1)\n",
      "SW_phase.phase_plane_curves(q_r[0],q_r[1],'qright',2)\n",
      "plt.plot(states[0,:],states[1,:],'k--o')\n",
      "plt.xlim(0,4)\n",
      "plt.ylim(-6,8)\n",
      "\n",
      "StaticInteract(plot_function, t=RangeWidget(0,.9,.1))"
     ],
     "language": "python",
     "metadata": {},
     "outputs": [],
     "prompt_number": null
    },
    {
     "cell_type": "code",
     "collapsed": false,
     "input": [],
     "language": "python",
     "metadata": {},
     "outputs": [],
     "prompt_number": null
    }
   ],
   "metadata": {}
  }
 ]
}