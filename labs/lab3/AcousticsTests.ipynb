{
 "metadata": {
  "name": ""
 },
 "nbformat": 3,
 "nbformat_minor": 0,
 "worksheets": [
  {
   "cells": [
    {
     "cell_type": "markdown",
     "metadata": {},
     "source": [
      "# Acoustics tests\n",
      "\n",
      "This notebook presents an implementation of the Lax-Wendroff method for the acoustics equations  $q_t + A q_x = 0$ with periodic boundary conditions.\n",
      "\n",
      "To load numpy and matplotlib and force plots to appear inline:"
     ]
    },
    {
     "cell_type": "code",
     "collapsed": false,
     "input": [
      "%pylab inline  "
     ],
     "language": "python",
     "metadata": {},
     "outputs": [],
     "prompt_number": null
    },
    {
     "cell_type": "markdown",
     "metadata": {},
     "source": [
      "## Some numpy array tips:\n",
      "\n",
      "The numpy array function can be used to generate arrays of any shape.  There is a `numpy.matrix` class that defines objects that behave more like Matlab vectors and matrices, but below we use general arrays.  \n",
      "\n",
      "Here are some examples:"
     ]
    },
    {
     "cell_type": "code",
     "collapsed": false,
     "input": [
      "x = array([1., 2.])\n",
      "print \"x = \", x  \n",
      "x"
     ],
     "language": "python",
     "metadata": {},
     "outputs": [],
     "prompt_number": null
    },
    {
     "cell_type": "code",
     "collapsed": false,
     "input": [
      "A = array([[0.,3.],[1.,0.]])\n",
      "A"
     ],
     "language": "python",
     "metadata": {},
     "outputs": [],
     "prompt_number": null
    },
    {
     "cell_type": "code",
     "collapsed": false,
     "input": [
      "# matrix-vector product:\n",
      "dot(A,x)"
     ],
     "language": "python",
     "metadata": {},
     "outputs": [],
     "prompt_number": null
    },
    {
     "cell_type": "code",
     "collapsed": false,
     "input": [
      "x = linspace(0,4,5)  # creates numpy array\n",
      "x"
     ],
     "language": "python",
     "metadata": {},
     "outputs": [],
     "prompt_number": null
    },
    {
     "cell_type": "code",
     "collapsed": false,
     "input": [
      "p = x\n",
      "u = 2 + x**2  # component wise squaring\n",
      "q = vstack([p,u])  # stack the two vectors vertically\n",
      "q"
     ],
     "language": "python",
     "metadata": {},
     "outputs": [],
     "prompt_number": null
    },
    {
     "cell_type": "code",
     "collapsed": false,
     "input": [
      "dot(A,q)  # matrix-matrix multiply "
     ],
     "language": "python",
     "metadata": {},
     "outputs": [],
     "prompt_number": null
    },
    {
     "cell_type": "code",
     "collapsed": false,
     "input": [
      "# transpose operator:\n",
      "q.T"
     ],
     "language": "python",
     "metadata": {},
     "outputs": [],
     "prompt_number": null
    },
    {
     "cell_type": "code",
     "collapsed": false,
     "input": [
      "# Note: unlike Matlab, there is no distinction between row and column vectors!\n",
      "x.T"
     ],
     "language": "python",
     "metadata": {},
     "outputs": [],
     "prompt_number": null
    },
    {
     "cell_type": "code",
     "collapsed": false,
     "input": [
      "# This makes adding columns a bit awkward...\n",
      "# add rows to the transposed matrix and then transpose back.\n",
      "#    (e.g. for ghost cells want to add a cell to each end with 2 components)\n",
      "qghost = array([0.,0.])  \n",
      "vstack([qghost, q.T, qghost]).T "
     ],
     "language": "python",
     "metadata": {},
     "outputs": [],
     "prompt_number": null
    },
    {
     "cell_type": "markdown",
     "metadata": {},
     "source": [
      "## Define a function implementing the Lax-Wendroff method\n",
      "This function approximates the solution from time $t_0 = 0$ to some final time `tfinal` by taking `nsteps` time steps with the Lax-Wendroff method, applied to a general linear equation $q_t + Aq_x = 0$.  The matrix $A$ (as a numpy array) is one input argument.\n",
      "\n",
      "On input, `x` is an array of cell centers and `q0` should be an array with `q0.shape = (meqn,mx)` where `meqn` is the number of equations in the system (2 for acoustics) and `mx` is the number of grid cells.  `q0` should contain the initial cell averages at time 0."
     ]
    },
    {
     "cell_type": "code",
     "collapsed": false,
     "input": [
      "def lax_wendroff(A,q0,x,tfinal,nsteps):\n",
      "    from numpy.linalg import eig\n",
      "    dt = float(tfinal)/nsteps\n",
      "    dx = x[1] - x[0]\n",
      "    (s,R) = eig(A)   # compute eigenvalues and eigenvector matrix\n",
      "    print \"Eigenvalues: \",s\n",
      "    cfl = abs(s).max() * dt/dx\n",
      "    print \"Courant number is \",cfl\n",
      "    \n",
      "    qghost = array([0.,0.])\n",
      "    qn = vstack([qghost, q0.T, qghost]).T   # add a ghost cell on each end\n",
      "    mx = len(x)  # number of grid cells\n",
      "    for n in range(nsteps):\n",
      "        qn[:,0] = qn[:,mx]\n",
      "        qn[:,mx+1] = qn[:,1]\n",
      "        qnp = zeros(qn.shape)   # initialize array\n",
      "        for i in range(1,mx+1):\n",
      "            dq = qn[:,i+1] - qn[:,i-1]\n",
      "            dq2 = qn[:,i+1] - 2*qn[:,i] + qn[:,i-1]\n",
      "            qnp[:,i] = qn[:,i] - 0.5*(dt/dx)*dot(A,dq) + 0.5*(dt/dx)**2 * dot(A,dot(A,dq2))\n",
      "        qn = qnp   # for next time step\n",
      "    qfinal = qnp[:,1:(mx+1)]   # throw away ghost cells\n",
      "    return qfinal"
     ],
     "language": "python",
     "metadata": {},
     "outputs": [],
     "prompt_number": null
    },
    {
     "cell_type": "markdown",
     "metadata": {},
     "source": [
      "Set up the computational grid and also a much finer grid for plotting the \"exact\" solution:"
     ]
    },
    {
     "cell_type": "code",
     "collapsed": false,
     "input": [
      "mx = 100\n",
      "dx = 1./mx\n",
      "x = linspace(dx/2, 1.-dx/2, mx)  # computational grid\n",
      "xfine = linspace(0,1,5000)   # fine grid for plotting true solution"
     ],
     "language": "python",
     "metadata": {},
     "outputs": [],
     "prompt_number": null
    },
    {
     "cell_type": "markdown",
     "metadata": {},
     "source": [
      "Note how the periodic boundary conditions are imposed."
     ]
    },
    {
     "cell_type": "markdown",
     "metadata": {},
     "source": [
      "Define and plot the initial data:"
     ]
    },
    {
     "cell_type": "code",
     "collapsed": false,
     "input": [
      "def qinit(x):\n",
      "    p = where(abs(x-0.5)<0.1, 3., 2.)\n",
      "    u = zeros(x.shape)\n",
      "    q0 = vstack([p,u])\n",
      "    return q0\n",
      "\n",
      "q0 = qinit(x)\n",
      "\n",
      "def plotq(x,q):\n",
      "    subplot(2,1,1)\n",
      "    plot(x,q[0,:], 'bo-', markersize=3)\n",
      "    ylim(1,4)\n",
      "    title('pressure')\n",
      "\n",
      "    subplot(2,1,2)\n",
      "    plot(x,q[1,:], 'bo-', markersize=3)\n",
      "    ylim(-2,2)\n",
      "    title('velocity')\n",
      "    \n",
      "plotq(x,q0)"
     ],
     "language": "python",
     "metadata": {},
     "outputs": [],
     "prompt_number": null
    },
    {
     "cell_type": "code",
     "collapsed": false,
     "input": [
      "# material parameters:\n",
      "rho = 1.\n",
      "K = 1.\n",
      "# coefficient matrix:\n",
      "A = array([[0.,K], [1/rho,0.]])\n",
      "print \"Sound speed = %g\" % sqrt(K/rho)\n",
      "print \"Impedance = %g\" % sqrt(K*rho)"
     ],
     "language": "python",
     "metadata": {},
     "outputs": [],
     "prompt_number": null
    },
    {
     "cell_type": "markdown",
     "metadata": {},
     "source": [
      "Test the Lax-Wendroff method for specific values of the parameters:"
     ]
    },
    {
     "cell_type": "code",
     "collapsed": false,
     "input": [
      "tfinal = 0.2\n",
      "nsteps = 20\n",
      "q0 = qinit(x)\n",
      "q = lax_wendroff(A,q0,x,tfinal,nsteps)\n",
      "plotq(x,q)"
     ],
     "language": "python",
     "metadata": {},
     "outputs": [],
     "prompt_number": null
    },
    {
     "cell_type": "markdown",
     "metadata": {},
     "source": [
      "## Try the following:\n",
      "\n",
      "- Check that this code works for other parameter values and experiment.\n",
      "\n",
      "- Write a new function `godunov` that implements the Godunov (upwind) method, using the wave-propagation framework.  You can do this for acoustics specifically, but it may be easier to do for general matrices $A$ using the eigen-decomposition that's already computed in the `lax_wendroff` function.  Recall this method takes the form:\n",
      "\n",
      "  $$Q_i^{n+1} = Q_i^n - \\frac{\\Delta t}{\\Delta x}\\sum_{p=1}^m \\left((s^p)^+ {\\cal W}_{i-1/2} \n",
      "+ (s^p)^- {\\cal W}_{i+1/2} \\right)$$\n",
      "\n",
      "  where $Q_i^n - Q_{i-1}^n = \\sum_{p=1}^m \\alpha_{i-1/2}^p r^p = \\sum_{p=1}^m {\\cal W}_{i-1/2}$\n",
      "\n",
      "- Implement a `qtrue` function to define the true solution and do comparison plots as we did for advection."
     ]
    },
    {
     "cell_type": "code",
     "collapsed": false,
     "input": [],
     "language": "python",
     "metadata": {},
     "outputs": [],
     "prompt_number": null
    }
   ],
   "metadata": {}
  }
 ]
}