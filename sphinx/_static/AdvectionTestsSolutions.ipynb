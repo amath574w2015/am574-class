{
 "metadata": {
  "name": "",
  "signature": "sha256:619c270c1f244fbfe122c6a703d314cfcc4f19f2534030c1cb3a39c52058ae56"
 },
 "nbformat": 3,
 "nbformat_minor": 0,
 "worksheets": [
  {
   "cells": [
    {
     "cell_type": "markdown",
     "metadata": {},
     "source": [
      "# Advection tests\n",
      "\n",
      "This notebook presents an implementation of the first-order upwind method on the scalar \n",
      "advection equation  $q_t + \\bar u q_x = 0$ with periodic boundary conditions.\n",
      "\n",
      "This notebook was developed to accompany [AMath 574 Lab 2](http://faculty.washington.edu/rjl/classes/am574w2015/labs/lab2.html).\n",
      "\n",
      "To load numpy and matplotlib and force plots to appear inline:"
     ]
    },
    {
     "cell_type": "code",
     "collapsed": false,
     "input": [
      "%pylab inline  "
     ],
     "language": "python",
     "metadata": {},
     "outputs": [
      {
       "output_type": "stream",
       "stream": "stdout",
       "text": [
        "Populating the interactive namespace from numpy and matplotlib\n"
       ]
      }
     ],
     "prompt_number": 34
    },
    {
     "cell_type": "markdown",
     "metadata": {},
     "source": [
      "## Some Python tips\n",
      "\n",
      "See also <http://faculty.washington.edu/rjl/classes/am574w2015/python.html>\n",
      "\n",
      "- The extent of for loops, if-then-else blocks, function definitions is determined entirely by indentation.\n",
      "- Array indexes start a 0, so a list or array A with 3 elements would be indexed by `A[0], A[1], A[2]`.\n",
      "- `range(3)` gives the list [0,1,2].\n",
      "- `range(1,4`) gives the list [1,2,3].\n",
      "- If A has at least 4 elements then `A[1:4]` is a new list `[A[1], A[2], A[3]]`\n",
      "- The linspace command works as in Matlab, and returns a numpy array (not a list)\n"
     ]
    },
    {
     "cell_type": "markdown",
     "metadata": {},
     "source": [
      "## Define a function implementing the upwind method\n",
      "This function approximates the solution from time $t_0 = 0$ to some final time `tfinal` by taking `nsteps` time steps with the upwind method, applied to the advection equation $q_t + \\bar u q_x = 0$.\n",
      "\n",
      "On input, `x` is an array of cell centers and `q0` should be an array of the same length, containing the initial cell averages at time 0."
     ]
    },
    {
     "cell_type": "code",
     "collapsed": false,
     "input": [
      "def upwind(ubar,q0,x,tfinal,nsteps):\n",
      "    dt = float(tfinal)/nsteps\n",
      "    dx = x[1] - x[0]  # assume equally spaced\n",
      "    udtdx = ubar * dt / dx\n",
      "    cfl = abs(udtdx)\n",
      "    print \"dx = %g,  dt = %g\" % (dx,dt)\n",
      "    print \"Courant number is \",cfl\n",
      "    \n",
      "    qn = hstack([0, q0, 0])   # add a ghost cell on each end\n",
      "    mx = len(x)  # number of grid cells\n",
      "    mx2 = mx+2   # number of cells with ghost cells\n",
      "    for n in range(nsteps):\n",
      "        qn[0] = qn[mx]\n",
      "        qn[mx+1] = qn[1]\n",
      "        qnp = zeros(qn.shape)   # initialize array\n",
      "        for i in range(1,mx+1):\n",
      "            if ubar > 0:\n",
      "                qnp[i] = qn[i] - udtdx * (qn[i]-qn[i-1])\n",
      "            else:\n",
      "                qnp[i] = qn[i] - udtdx * (qn[i+1]-qn[i])\n",
      "                \n",
      "        qn = qnp   # for next time step\n",
      "    qfinal = qnp[1:(mx+1)]   # throw away ghost cells\n",
      "    return qfinal"
     ],
     "language": "python",
     "metadata": {},
     "outputs": [],
     "prompt_number": 35
    },
    {
     "cell_type": "markdown",
     "metadata": {},
     "source": [
      "Set up the computational grid and also a much finer grid for plotting the \"exact\" solution:"
     ]
    },
    {
     "cell_type": "code",
     "collapsed": false,
     "input": [
      "mx = 50\n",
      "dx = 1./mx\n",
      "x = linspace(dx/2, 1.-dx/2, mx)  # computational grid\n",
      "xfine = linspace(0,1,5000)   # fine grid for plotting true solution"
     ],
     "language": "python",
     "metadata": {},
     "outputs": [],
     "prompt_number": 36
    },
    {
     "cell_type": "markdown",
     "metadata": {},
     "source": [
      "Define the true solution as a function of $(x,t)$.  It will depend on `ubar`.  \n",
      "\n",
      "Note how the periodic boundary conditions are imposed."
     ]
    },
    {
     "cell_type": "code",
     "collapsed": false,
     "input": [
      "def qtrue(x,t,ubar):\n",
      "    x0 = x - ubar*t   # trace back characteristic to time 0\n",
      "    x0 = mod(x0, 1.)  # use periodic boundary conditions to map to [0,1]\n",
      "    q = where(abs(x0-0.2) < 0.1,  3., 2.)   # piecewise constant with values 2 and 3\n",
      "    return q\n"
     ],
     "language": "python",
     "metadata": {},
     "outputs": [],
     "prompt_number": 37
    },
    {
     "cell_type": "markdown",
     "metadata": {},
     "source": [
      "Plot the initial data, with blue dots for the cell averages on the computational grid and a red line for the \"exact\" data."
     ]
    },
    {
     "cell_type": "code",
     "collapsed": false,
     "input": [
      "ubar = 1.\n",
      "q0 = qtrue(x,0.,ubar)\n",
      "plot(x,q0, 'bo')\n",
      "\n",
      "q0fine = qtrue(xfine,0.,ubar)\n",
      "plot(xfine,q0fine,'r-')\n",
      "ylim(1,4)"
     ],
     "language": "python",
     "metadata": {},
     "outputs": [
      {
       "metadata": {},
       "output_type": "pyout",
       "prompt_number": 38,
       "text": [
        "(1, 4)"
       ]
      },
      {
       "metadata": {},
       "output_type": "display_data",
       "png": "[encoded data removed]",
       "text": [
        "<matplotlib.figure.Figure at 0x108855650>"
       ]
      }
     ],
     "prompt_number": 38
    },
    {
     "cell_type": "markdown",
     "metadata": {},
     "source": [
      "Test the upwind method for specific values of the parameters:"
     ]
    },
    {
     "cell_type": "code",
     "collapsed": false,
     "input": [
      "tfinal = 0.5\n",
      "nsteps = 30\n",
      "q0 = qtrue(x,0.,ubar)\n",
      "q = upwind(ubar,q0,x,tfinal,nsteps)\n",
      "qfine = qtrue(xfine,tfinal,ubar)  # \"exact\" solution\n",
      "plot(x,q, 'bo')\n",
      "plot(xfine,qfine,'r-')\n",
      "ylim(1,4)"
     ],
     "language": "python",
     "metadata": {},
     "outputs": [
      {
       "output_type": "stream",
       "stream": "stdout",
       "text": [
        "dx = 0.02,  dt = 0.0166667\n",
        "Courant number is  0.833333333333\n"
       ]
      },
      {
       "metadata": {},
       "output_type": "pyout",
       "prompt_number": 39,
       "text": [
        "(1, 4)"
       ]
      },
      {
       "metadata": {},
       "output_type": "display_data",
       "png": "[encoded data removed]",
       "text": [
        "<matplotlib.figure.Figure at 0x108763890>"
       ]
      }
     ],
     "prompt_number": 39
    },
    {
     "cell_type": "markdown",
     "metadata": {},
     "source": [
      "## Try the following:\n",
      "\n",
      "- Check that this code works if `ubar` is negative and/or if the time interval is longer, so that the periodic boundary conditions play a role.\n",
      "- With `tfinal = 0.5`, try the following and make some observations about the results in each case:\n",
      "  - `nsteps = 25` (why is the result so good?)\n",
      "  - `nsteps = 24` (why is the result so bad?)\n",
      "- Write a new function `lax_friedrichs` that implements the Lax-Friedrichs method.  Try various paramter values and comment on the results.\n",
      "$$Q_i^{n+1} = \\frac 1 2 (Q_{i-1}^n  + Q_{i+1}^n) - \\frac{\\bar u \\Delta t}{2\\Delta x}(Q_{i+1}^n-Q_{i-1}^n)$$ \n",
      "- Try both upwind and Lax-Friedrichs on the initial data $q_0(x) = \\exp(-30(x-0.2)^2)$ for $0 \\leq x \\leq 1$ and comment on what you observe.\n",
      "- Implement the second-order accurate Lax-Wendroff method and try it out on these examples.\n",
      "\n",
      "$$Q_i^{n+1} = Q_i^n - \\frac{\\bar u \\Delta t}{2\\Delta x}(Q_{i+1}^n-Q_{i-1}^n) + \\frac 1 2 \\left(\\frac{\\bar u \\Delta t}{\\Delta x}\\right)^2 (Q_{i+1}^n - 2Q_i^n + Q_{i-1}^n)$$"
     ]
    },
    {
     "cell_type": "markdown",
     "metadata": {},
     "source": [
      "## Sample solutions\n",
      "\n",
      "Try 25 time steps.  Note that the solution is exact because the upwind method reduces to $Q_i^{n+1} = Q_{i-1}^n$ in this case, so each cell average simply shifts over one cell..."
     ]
    },
    {
     "cell_type": "code",
     "collapsed": false,
     "input": [
      "tfinal = 0.5\n",
      "nsteps = 25\n",
      "q0 = qtrue(x,0.,ubar)\n",
      "q = upwind(ubar,q0,x,tfinal,nsteps)\n",
      "qfine = qtrue(xfine,tfinal,ubar)  # \"exact\" solution\n",
      "plot(x,q, 'bo')\n",
      "plot(xfine,qfine,'r-')\n",
      "ylim(1,4)"
     ],
     "language": "python",
     "metadata": {},
     "outputs": [
      {
       "output_type": "stream",
       "stream": "stdout",
       "text": [
        "dx = 0.02,  dt = 0.02\n",
        "Courant number is  1.0\n"
       ]
      },
      {
       "metadata": {},
       "output_type": "pyout",
       "prompt_number": 40,
       "text": [
        "(1, 4)"
       ]
      },
      {
       "metadata": {},
       "output_type": "display_data",
       "png": "[encoded data removed]",
       "text": [
        "<matplotlib.figure.Figure at 0x1088a9810>"
       ]
      }
     ],
     "prompt_number": 40
    },
    {
     "cell_type": "markdown",
     "metadata": {},
     "source": [
      "Try 24 time steps.  Note that in this case the Courant number is greater than 1, so the method is **unstable**.  The square pulse should shift over 1.04167 grid cells each time step, but the numerical domain of dependence allows information to propagate at most one grid cell each time step.  Notice that the numerical solution is still $Q_i^n=2$ to the right of $x = 0.3 + 24\\Delta x = 0.78$.  "
     ]
    },
    {
     "cell_type": "code",
     "collapsed": false,
     "input": [
      "tfinal = 0.5\n",
      "nsteps = 24\n",
      "q0 = qtrue(x,0.,ubar)\n",
      "q = upwind(ubar,q0,x,tfinal,nsteps)\n",
      "qfine = qtrue(xfine,tfinal,ubar)  # \"exact\" solution\n",
      "plot(x,q, 'bo')\n",
      "plot(xfine,qfine,'r-')\n",
      "ylim(1,4)"
     ],
     "language": "python",
     "metadata": {},
     "outputs": [
      {
       "output_type": "stream",
       "stream": "stdout",
       "text": [
        "dx = 0.02,  dt = 0.0208333\n",
        "Courant number is  1.04166666667\n"
       ]
      },
      {
       "metadata": {},
       "output_type": "pyout",
       "prompt_number": 41,
       "text": [
        "(1, 4)"
       ]
      },
      {
       "metadata": {},
       "output_type": "display_data",
       "png": "[encoded data removed]",
       "text": [
        "<matplotlib.figure.Figure at 0x1066879d0>"
       ]
      }
     ],
     "prompt_number": 41
    },
    {
     "cell_type": "markdown",
     "metadata": {},
     "source": [
      "## Lax-Friedrichs method"
     ]
    },
    {
     "cell_type": "code",
     "collapsed": false,
     "input": [
      "def lax_friedrichs(ubar,q0,x,tfinal,nsteps):\n",
      "    dt = float(tfinal)/nsteps\n",
      "    udtdx = ubar * dt / dx\n",
      "    cfl = abs(udtdx)\n",
      "    print \"Courant number is \",cfl\n",
      "    \n",
      "    qn = hstack([0, q0, 0])   # add a ghost cell on each end\n",
      "    mx = len(x)  # number of grid cells\n",
      "    mx2 = mx+2   # number of cells with ghost cells\n",
      "    for n in range(nsteps):\n",
      "        qn[0] = qn[mx]\n",
      "        qn[mx+1] = qn[1]\n",
      "        qnp = zeros(qn.shape)   # initialize array\n",
      "        for i in range(1,mx+1):\n",
      "            qnp[i] = 0.5*(qn[i-1] + qn[i+1]) - 0.5*udtdx*(qn[i+1]-qn[i-1])\n",
      "        qn = qnp   # for next time step\n",
      "    qfinal = qnp[1:(mx+1)]   # throw away ghost cells\n",
      "    return qfinal"
     ],
     "language": "python",
     "metadata": {},
     "outputs": [],
     "prompt_number": 42
    },
    {
     "cell_type": "markdown",
     "metadata": {},
     "source": [
      "Note that since $Q_i^{n+1}$ depends only on $Q_{i-1}^n$ and $Q_{i+1}^n$, the odd numbered grid points depend only on the even numbered points at the previous step, and vice versa.  For the discontinous data, this results in the funny looking plots where each $Q$ value is repeated twice in the next test..."
     ]
    },
    {
     "cell_type": "code",
     "collapsed": false,
     "input": [
      "tfinal = 0.5\n",
      "nsteps = 30\n",
      "q0 = qtrue(x,0.,ubar)\n",
      "q = lax_friedrichs(ubar,q0,x,tfinal,nsteps)\n",
      "qfine = qtrue(xfine,tfinal,ubar)  # \"exact\" solution\n",
      "plot(x,q, 'bo')\n",
      "plot(xfine,qfine,'r-')\n",
      "ylim(1,4)"
     ],
     "language": "python",
     "metadata": {},
     "outputs": [
      {
       "output_type": "stream",
       "stream": "stdout",
       "text": [
        "Courant number is  0.833333333333\n"
       ]
      },
      {
       "metadata": {},
       "output_type": "pyout",
       "prompt_number": 43,
       "text": [
        "(1, 4)"
       ]
      },
      {
       "metadata": {},
       "output_type": "display_data",
       "png": "[encoded data removed]",
       "text": [
        "<matplotlib.figure.Figure at 0x108ac07d0>"
       ]
      }
     ],
     "prompt_number": 43
    },
    {
     "cell_type": "markdown",
     "metadata": {},
     "source": [
      "## Change the initial data to a Gaussian\n",
      "\n",
      "Note that since we are solving the problem with periodic boundary conditions and the values $q(0,0) \\neq q(1,0)$, there is effectively a discontinuity at the boundary that will propagate in."
     ]
    },
    {
     "cell_type": "code",
     "collapsed": false,
     "input": [
      "def qtrue2(x,t,ubar):\n",
      "    x0 = x - ubar*t   # trace back characteristic to time 0\n",
      "    x0 = mod(x0, 1.)  # use periodic boundary conditions to map to [0,1]\n",
      "    q = 2 + exp(-30*(x0-0.2)**2)\n",
      "    return q\n",
      "plot(xfine, qtrue2(xfine,0,ubar), 'r-')\n",
      "ylim(1,4)"
     ],
     "language": "python",
     "metadata": {},
     "outputs": [
      {
       "metadata": {},
       "output_type": "pyout",
       "prompt_number": 44,
       "text": [
        "(1, 4)"
       ]
      },
      {
       "metadata": {},
       "output_type": "display_data",
       "png": "[encoded data removed]",
       "text": [
        "<matplotlib.figure.Figure at 0x108afb390>"
       ]
      }
     ],
     "prompt_number": 44
    },
    {
     "cell_type": "markdown",
     "metadata": {},
     "source": [
      "Test both upwind and Lax-Friedrichs on this data.  Go out to larger $t$ to better see the fact that Lax-Friedrichs is more diffusive."
     ]
    },
    {
     "cell_type": "code",
     "collapsed": false,
     "input": [
      "tfinal = 2.5\n",
      "nsteps = 150\n",
      "q0 = qtrue2(x,0.,ubar)\n",
      "q = lax_friedrichs(ubar,q0,x,tfinal,nsteps)\n",
      "qfine = qtrue2(xfine,tfinal,ubar)  # \"exact\" solution\n",
      "plot(x,q, 'bo', markersize=4, label='Lax-Friedrichs')\n",
      "plot(xfine,qfine,'r-')\n",
      "q = upwind(ubar,q0,x,tfinal,nsteps)\n",
      "plot(x,q,'g+', label='upwind')\n",
      "legend()\n",
      "ylim(1,4)"
     ],
     "language": "python",
     "metadata": {},
     "outputs": [
      {
       "output_type": "stream",
       "stream": "stdout",
       "text": [
        "Courant number is  0.833333333333\n",
        "dx = 0.02,  dt = 0.0166667"
       ]
      },
      {
       "output_type": "stream",
       "stream": "stdout",
       "text": [
        "\n",
        "Courant number is  0.833333333333\n"
       ]
      },
      {
       "metadata": {},
       "output_type": "pyout",
       "prompt_number": 45,
       "text": [
        "(1, 4)"
       ]
      },
      {
       "metadata": {},
       "output_type": "display_data",
       "png": "[encoded data removed]",
       "text": [
        "<matplotlib.figure.Figure at 0x108af7450>"
       ]
      }
     ],
     "prompt_number": 45
    },
    {
     "cell_type": "markdown",
     "metadata": {},
     "source": [
      "## Lax-Wendroff"
     ]
    },
    {
     "cell_type": "code",
     "collapsed": false,
     "input": [
      "def lax_wendroff(ubar,q0,x,tfinal,nsteps):\n",
      "    dt = float(tfinal)/nsteps\n",
      "    udtdx = ubar * dt / dx\n",
      "    cfl = abs(udtdx)\n",
      "    print \"Courant number is \",cfl\n",
      "    \n",
      "    qn = hstack([0, q0, 0])   # add a ghost cell on each end\n",
      "    mx = len(x)  # number of grid cells\n",
      "    mx2 = mx+2   # number of cells with ghost cells\n",
      "    for n in range(nsteps):\n",
      "        qn[0] = qn[mx]\n",
      "        qn[mx+1] = qn[1]\n",
      "        qnp = zeros(qn.shape)   # initialize array\n",
      "        for i in range(1,mx+1):\n",
      "            qnp[i] = qn[i] - 0.5*udtdx*(qn[i+1]-qn[i-1]) + 0.5*udtdx**2 * (qn[i+1] - 2*qn[i] + qn[i-1])\n",
      "        qn = qnp   # for next time step\n",
      "    qfinal = qnp[1:(mx+1)]   # throw away ghost cells\n",
      "    return qfinal"
     ],
     "language": "python",
     "metadata": {},
     "outputs": [],
     "prompt_number": 46
    },
    {
     "cell_type": "markdown",
     "metadata": {},
     "source": [
      "Test Lax-Wendroff out to time $t=2.5$.  Note that it does a better job where the solution is smooth, but introduces oscillations trailing behind the discontinuity."
     ]
    },
    {
     "cell_type": "code",
     "collapsed": false,
     "input": [
      "tfinal = 2.5\n",
      "nsteps = 150\n",
      "q0 = qtrue2(x,0.,ubar)\n",
      "q = lax_wendroff(ubar,q0,x,tfinal,nsteps)\n",
      "qfine = qtrue2(xfine,tfinal,ubar)  # \"exact\" solution\n",
      "plot(x,q, 'bo')\n",
      "plot(xfine,qfine,'r-')\n",
      "ylim(1,4)"
     ],
     "language": "python",
     "metadata": {},
     "outputs": [
      {
       "output_type": "stream",
       "stream": "stdout",
       "text": [
        "Courant number is  0.833333333333\n"
       ]
      },
      {
       "metadata": {},
       "output_type": "pyout",
       "prompt_number": 47,
       "text": [
        "(1, 4)"
       ]
      },
      {
       "metadata": {},
       "output_type": "display_data",
       "png": "[encoded data removed]",
       "text": [
        "<matplotlib.figure.Figure at 0x1088717d0>"
       ]
      }
     ],
     "prompt_number": 47
    },
    {
     "cell_type": "markdown",
     "metadata": {},
     "source": [
      "The oscillations are more apparent if we switch back to the step function initial data..."
     ]
    },
    {
     "cell_type": "code",
     "collapsed": false,
     "input": [
      "tfinal = 2.5\n",
      "nsteps = 150\n",
      "q0 = qtrue(x,0.,ubar)\n",
      "q = lax_wendroff(ubar,q0,x,tfinal,nsteps)\n",
      "qfine = qtrue(xfine,tfinal,ubar)  # \"exact\" solution\n",
      "plot(x,q, 'bo')\n",
      "plot(xfine,qfine,'r-')\n",
      "ylim(1,4)"
     ],
     "language": "python",
     "metadata": {},
     "outputs": [
      {
       "output_type": "stream",
       "stream": "stdout",
       "text": [
        "Courant number is  0.833333333333\n"
       ]
      },
      {
       "metadata": {},
       "output_type": "pyout",
       "prompt_number": 48,
       "text": [
        "(1, 4)"
       ]
      },
      {
       "metadata": {},
       "output_type": "display_data",
       "png": "[encoded data removed]",
       "text": [
        "<matplotlib.figure.Figure at 0x1085f5ad0>"
       ]
      }
     ],
     "prompt_number": 48
    },
    {
     "cell_type": "markdown",
     "metadata": {},
     "source": [
      "Note that the oscillations do not disappear if we reduce the grid size $\\Delta x$ and $\\Delta t$..."
     ]
    },
    {
     "cell_type": "code",
     "collapsed": false,
     "input": [
      "mx = 400\n",
      "dx = 1./mx\n",
      "x = linspace(dx/2, 1.-dx/2, mx)  # computational grid\n",
      "tfinal = 2.5\n",
      "nsteps = 1200\n",
      "q0 = qtrue(x,0.,ubar)\n",
      "q = lax_wendroff(ubar,q0,x,tfinal,nsteps)\n",
      "qfine = qtrue(xfine,tfinal,ubar)  # \"exact\" solution\n",
      "plot(x,q, 'bo', markersize=4)\n",
      "plot(xfine,qfine,'r-')\n",
      "ylim(1,4)"
     ],
     "language": "python",
     "metadata": {},
     "outputs": [
      {
       "output_type": "stream",
       "stream": "stdout",
       "text": [
        "Courant number is  0.833333333333\n"
       ]
      },
      {
       "metadata": {},
       "output_type": "pyout",
       "prompt_number": 49,
       "text": [
        "(1, 4)"
       ]
      },
      {
       "metadata": {},
       "output_type": "display_data",
       "png": "[encoded data removed]",
       "text": [
        "<matplotlib.figure.Figure at 0x108855890>"
       ]
      }
     ],
     "prompt_number": 49
    },
    {
     "cell_type": "code",
     "collapsed": false,
     "input": [],
     "language": "python",
     "metadata": {},
     "outputs": [],
     "prompt_number": 49
    }
   ],
   "metadata": {}
  }
 ]
}