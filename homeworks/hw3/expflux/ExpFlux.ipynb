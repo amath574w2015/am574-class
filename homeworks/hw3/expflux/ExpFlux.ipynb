{
 "metadata": {
  "name": ""
 },
 "nbformat": 3,
 "nbformat_minor": 0,
 "worksheets": [
  {
   "cells": [
    {
     "cell_type": "markdown",
     "metadata": {},
     "source": [
      "# Scalar equation with exponential flux\n",
      "\n",
      "In this notebook we solve the scalar equation $q_t + f(q)_x = 0$ with flux function $f(q) = e^q$ and initial data\n",
      "\n",
      "$\n",
      "q(x,0) = \\left\\{ \\begin{array}{ll} \n",
      "2 & \\text{if}~ 0\\leq x \\leq 1,\\\\\n",
      "0 & \\text{otherwise.} \\end{array}\\right.\n",
      "$"
     ]
    },
    {
     "cell_type": "code",
     "collapsed": false,
     "input": [
      "%pylab inline"
     ],
     "language": "python",
     "metadata": {},
     "outputs": [],
     "prompt_number": null
    },
    {
     "cell_type": "markdown",
     "metadata": {},
     "source": [
      "\n",
      "\n",
      "The solution initially consists of a shock wave at $x=1$ moving at speed $s_0 = (f(2)-f(0))/(2-0) = (e^2-1)/2$ and a centered rarefaction at $x=0$.  In the rarefaction wave the solution takes the form $q_{rare}(x,t) = \\log(x/t)$. The leading  edge of the rarefaction wave is moving at speed $f'(2) = e^2$ and catches up to the shock at time $t_s = 2/(e^2 + 1)$.  For $t \\leq t_s$, the solution is\n",
      "\n",
      "$q(x,t) = \\left\\{ \\begin{array}{ll} \n",
      "\\log(x/t) & \\text{if}~ t \\leq x \\leq e^2 t,\\\\\n",
      "2 & \\text{if}~ e^2 t\\leq x \\leq 1+s_0t,\\\\\n",
      "0 & \\text{otherwise.} \\end{array}\\right.\n",
      "$\n",
      "\n",
      "For $t > t_s$, the rarefaction is interacting with the shock and the shock speed varies.  If $x_s(t)$ is the shock position, then it satisfies and ODE determined by the fact that the shock speed is given by the Rankine-Hugoniot condition at each instant in time:\n",
      "\n",
      "$x_s' = \\frac{f(q_{rare}(x_s(t),t)) - f(0)}{q_{rare}(x_s(t),t) - 0} = \\frac{x_s(t)/t - 1}{\\log(x_s(t)/t)}$\n",
      "\n",
      "with the intial condition $x_s(t_s) = 1 + s_0 t_s$.\n",
      "\n",
      "This ODE can be solved in terms of the [Lambert W-function](http://en.wikipedia.org/wiki/Lambert_W_function) $W(z)$ defined to be the solution to $We^W = z$:\n",
      "\n",
      "$x_s(t) = \\frac{2-t}{W((2-t)/et)}.$\n",
      "\n",
      "This can also be determined by conservation since $x_s(t)$ must be the value for which $\\int_t^{x_s(t)} \\log(x/t) dx = 2$. Evaluating this integral gives $x_s \\log(x_s) - x_s - x_s\\log(t) + t = 2$ and some manipulations allow this nonlinear equation to be solved in terms of the W-function as above (or it could be solved numerically, e.g. with the Python function [scipy.optimize.fsolve](http://docs.scipy.org/doc/scipy/reference/generated/scipy.optimize.fsolve.html)).\n",
      "\n",
      "Assuming a way to evaluate $x_s(t)$, the solution for $t > t_s$ can be written as\n",
      "\n",
      "$q(x,t) = \\left\\{ \\begin{array}{ll} \n",
      "\\log(x/t) & \\text{if}~ t \\leq x \\leq x_s(t),\\\\\n",
      "0 & \\text{otherwise.} \\end{array}\\right.\n",
      "$\n",
      "\n",
      "Evaluating from this form requires solving a nonlinear equation to determine $x_s(t)$ for each $t > t_s$, or having an implementation of the Lambert W-function.  In Python, one can use [scipy.special.lambertw](http://docs.scipy.org/doc/scipy-0.13.0/reference/generated/scipy.special.lambertw.html). This is implemented in the function below.\n"
     ]
    },
    {
     "cell_type": "code",
     "collapsed": false,
     "input": [
      "def q(x,t):\n",
      "    from scipy.special import lambertw\n",
      "    q = zeros(x.shape)\n",
      "    q = where(x>t, log(x/t), q)  # rarefaction\n",
      "    ts = 2./(exp(2.)+1)  # time rarefaction catches shock\n",
      "    if t<ts:\n",
      "        q = where(x<exp(2)*t, q, 2.) # flat top\n",
      "        q = where(x < 1+t*(exp(2)-1)/2., q, 0.)  # cut off at shock\n",
      "    else:\n",
      "        xs = (2-t) / (lambertw((2-t)/(exp(1.)*t)))\n",
      "        q = where(x < xs, q, 0.) # cut off at shock\n",
      "    return q\n"
     ],
     "language": "python",
     "metadata": {},
     "outputs": [],
     "prompt_number": null
    },
    {
     "cell_type": "markdown",
     "metadata": {},
     "source": [
      "Plot the solution for several times between 0 and 1:"
     ]
    },
    {
     "cell_type": "code",
     "collapsed": false,
     "input": [
      "xx = linspace(-1,5,500)\n",
      "for t in linspace(0,1,11):\n",
      "    qq = q(xx,t)\n",
      "    plot(xx,qq)\n",
      "ylim(-0.5,2.5)"
     ],
     "language": "python",
     "metadata": {},
     "outputs": [],
     "prompt_number": null
    },
    {
     "cell_type": "markdown",
     "metadata": {},
     "source": [
      "## Another way to compute the true solution on a set of x points\n",
      "\n",
      "We can avoid having to use the W-function by simply evaluating the rarefaction wave function everywhere to the right of $x=t$ and then reset the value of $q$ to zero at points where the integral would evaluate to a value greater than 2, e.g. when $x\\log(x/t) - x + t > 2$:"
     ]
    },
    {
     "cell_type": "code",
     "collapsed": false,
     "input": [
      "def q2(x,t):\n",
      "    ts = 2./(exp(2.)+1)  # time rarefaction catches shock\n",
      "    q = zeros(x.shape)\n",
      "    q = where(x>t, log(x/t), q)  # rarefaction for x>t, ignoring shock\n",
      "    if t<ts:\n",
      "        q = where(x<exp(2)*t, q, 2.) # flat top\n",
      "        q = where(x < 1+t*(exp(2)-1)/2., q, 0.)  # cut off at shock\n",
      "    else:\n",
      "        # cut off at shock, ignoring log values at invalid arguments:\n",
      "        q = where(logical_and(x>0, x*log(x/t) - x + t > 2), 0., q)\n",
      "    return q"
     ],
     "language": "python",
     "metadata": {},
     "outputs": [],
     "prompt_number": null
    },
    {
     "cell_type": "code",
     "collapsed": false,
     "input": [
      "xx = linspace(-1,5,500)\n",
      "for t in linspace(0,1,11):\n",
      "    qq = q2(xx,t)\n",
      "    plot(xx,qq)\n",
      "ylim(-0.5,2.5)"
     ],
     "language": "python",
     "metadata": {},
     "outputs": [],
     "prompt_number": null
    },
    {
     "cell_type": "markdown",
     "metadata": {},
     "source": [
      "This latter approach is used in the [setplot.py](setplot.py) routine used in the Clawpack code below."
     ]
    },
    {
     "cell_type": "markdown",
     "metadata": {},
     "source": [
      "## Clawpack solution\n",
      "\n",
      "Check that the CLAW environment variable is set.  (It must be set in the Unix shell before starting the notebook server)."
     ]
    },
    {
     "cell_type": "code",
     "collapsed": false,
     "input": [
      "try:\n",
      "    import clawpack\n",
      "    location = clawpack.__file__.replace('clawpack/__init__.pyc','')\n",
      "    print \"Using Clawpack from \",location\n",
      "except:\n",
      "    print \"*** Problem importing Clawpack -- check if environment variable set\""
     ],
     "language": "python",
     "metadata": {},
     "outputs": [],
     "prompt_number": null
    },
    {
     "cell_type": "markdown",
     "metadata": {},
     "source": [
      "Import some modules needed below..."
     ]
    },
    {
     "cell_type": "code",
     "collapsed": false,
     "input": [
      "import clawpack.visclaw.JSAnimation.JSAnimation_frametools as J\n",
      "from clawpack.clawutil import nbtools\n",
      "from IPython.display import FileLink"
     ],
     "language": "python",
     "metadata": {},
     "outputs": [],
     "prompt_number": null
    },
    {
     "cell_type": "markdown",
     "metadata": {},
     "source": [
      "### Compile the Fortran code:"
     ]
    },
    {
     "cell_type": "code",
     "collapsed": false,
     "input": [
      "nbtools.make_exe(new=True)"
     ],
     "language": "python",
     "metadata": {},
     "outputs": [],
     "prompt_number": null
    },
    {
     "cell_type": "markdown",
     "metadata": {},
     "source": [
      "### Make documentation files:"
     ]
    },
    {
     "cell_type": "code",
     "collapsed": false,
     "input": [
      "nbtools.make_htmls()"
     ],
     "language": "python",
     "metadata": {},
     "outputs": [],
     "prompt_number": null
    },
    {
     "cell_type": "markdown",
     "metadata": {},
     "source": [
      "## Run code, and plot results..."
     ]
    },
    {
     "cell_type": "code",
     "collapsed": false,
     "input": [
      "outdir,plotdir = nbtools.make_output_and_plots(verbose=False)\n",
      "anim = J.make_anim(plotdir, figno=1, figsize=(8,6))\n",
      "anim"
     ],
     "language": "python",
     "metadata": {},
     "outputs": [],
     "prompt_number": null
    },
    {
     "cell_type": "code",
     "collapsed": false,
     "input": [],
     "language": "python",
     "metadata": {},
     "outputs": []
    }
   ],
   "metadata": {}
  }
 ]
}